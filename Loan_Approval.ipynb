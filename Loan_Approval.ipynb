{
 "cells": [
  {
   "cell_type": "code",
   "execution_count": 74,
   "id": "259d61af",
   "metadata": {},
   "outputs": [],
   "source": [
    "#Importing pandas\n",
    "import pandas as pd"
   ]
  },
  {
   "cell_type": "code",
   "execution_count": 75,
   "id": "fc66fb16",
   "metadata": {},
   "outputs": [],
   "source": [
    "#Reading in loan_data.csv\n",
    "loanDF = pd.read_csv('C:\\\\Users\\\\Morga\\\\programsMG\\\\loan_data.csv')"
   ]
  },
  {
   "cell_type": "code",
   "execution_count": 76,
   "id": "a3fa9753",
   "metadata": {},
   "outputs": [],
   "source": [
    "import numpy as np\n",
    "annual_inc = round(np.exp(loanDF['log.annual.inc']),2)\n",
    "loanDF.insert(5, 'annual_inc', annual_inc)"
   ]
  },
  {
   "cell_type": "code",
   "execution_count": 77,
   "id": "795baf43",
   "metadata": {
    "scrolled": true
   },
   "outputs": [],
   "source": [
    "#replacing the column names\n",
    "loanDF.columns = ['credit_policy','purpose', 'interest_rate', 'installment',\n",
    "                  'log_annual_inc',\n",
    "                 'annual_inc',\n",
    "                  'dti', 'fico', \n",
    "                  'days_with_cr_line', 'revol_bal','revol_util',\n",
    "                 'inq_last_6mths', 'delinq_2yrs', 'pub_rec', \n",
    "                  'not_fully_paid']"
   ]
  },
  {
   "cell_type": "code",
   "execution_count": 78,
   "id": "11965155",
   "metadata": {
    "scrolled": false
   },
   "outputs": [
    {
     "name": "stdout",
     "output_type": "stream",
     "text": [
      "<class 'pandas.core.frame.DataFrame'>\n",
      "RangeIndex: 9578 entries, 0 to 9577\n",
      "Data columns (total 15 columns):\n",
      " #   Column             Non-Null Count  Dtype  \n",
      "---  ------             --------------  -----  \n",
      " 0   credit_policy      9578 non-null   int64  \n",
      " 1   purpose            9578 non-null   object \n",
      " 2   interest_rate      9578 non-null   float64\n",
      " 3   installment        9578 non-null   float64\n",
      " 4   log_annual_inc     9578 non-null   float64\n",
      " 5   annual_inc         9578 non-null   float64\n",
      " 6   dti                9578 non-null   float64\n",
      " 7   fico               9578 non-null   int64  \n",
      " 8   days_with_cr_line  9578 non-null   float64\n",
      " 9   revol_bal          9578 non-null   int64  \n",
      " 10  revol_util         9578 non-null   float64\n",
      " 11  inq_last_6mths     9578 non-null   int64  \n",
      " 12  delinq_2yrs        9578 non-null   int64  \n",
      " 13  pub_rec            9578 non-null   int64  \n",
      " 14  not_fully_paid     9578 non-null   int64  \n",
      "dtypes: float64(7), int64(7), object(1)\n",
      "memory usage: 1.1+ MB\n"
     ]
    }
   ],
   "source": [
    "#checking for null values and data type of each column\n",
    "loanDF.info()"
   ]
  },
  {
   "cell_type": "code",
   "execution_count": 79,
   "id": "09a25af1",
   "metadata": {},
   "outputs": [],
   "source": [
    "# creating a schema to use to explain complicated column names as a list of dictionairies\n",
    "loan_schema = []\n",
    "loan_schema.append({'column':'credit_policy','description': '1 if the customer meets the credit underwriting criteria of LendingClub.com, and 0 otherwise.'})\n",
    "loan_schema.append({'column':'purpose','description':'The purpose of the loan (takes values \"creditcard\", \"debtconsolidation\", \"educational\", \"majorpurchase\", \"smallbusiness\", and \"all_other\").'})\n",
    "loan_schema.append({'column':'int_rate','description':'The interest rate of the loan, as a proportion (a rate of 11% would be stored as 0.11). Borrowers judged by LendingClub.com to be more risky are assigned higher interest rates.'})\n",
    "loan_schema.append({'column':'installment','description':'The monthly installments owed by the borrower if the loan is funded.'})\n",
    "loan_schema.append({'column':'log_annual_inc','description':'The natural log of the self-reported annual income of the borrower.'})\n",
    "loan_schema.append({'column':'annual_inc','description':'The self-reported annual income of the borrower.'})\n",
    "loan_schema.append({'column':'dti','description':'The debt-to-income ratio of the borrower (amount of debt divided by annual income).'})\n",
    "loan_schema.append({'column':'fico','description':'The FICO credit score of the borrower.'})\n",
    "loan_schema.append({'column':'days_with_cr_line','description':'The number of days the borrower has had a credit line.'})\n",
    "loan_schema.append({'column':'revol_bal','description':\"The borrower's revolving balance (amount unpaid at the end of the credit card billing cycle).\"})\n",
    "loan_schema.append({'column':'revol_util','description':\"The borrower's revolving line utilization rate (the amount of the credit line used relative to total credit available).\"})\n",
    "loan_schema.append({'column':'inq_last_6mths','description':\"The borrower's number of inquiries by creditors in the last 6 months.\"})\n",
    "loan_schema.append({'column':'delinq_2yrs','description':'The number of times the borrower had been 30+ days past due on a payment in the past 2 years.'})\n",
    "loan_schema.append({'column':'pub_rec','description':\"The borrower's number of derogatory public records (bankruptcy filings, tax liens, or judgments).\"})\n",
    "loan_schema.append({'column':'not_fully_paid','description':'If the loan was fully paid back 0 is yes, 1 is no'})"
   ]
  },
  {
   "cell_type": "code",
   "execution_count": 80,
   "id": "8889c8c7",
   "metadata": {},
   "outputs": [
    {
     "name": "stdout",
     "output_type": "stream",
     "text": [
      "credit_policy: 1 if the customer meets the credit underwriting criteria of LendingClub.com, and 0 otherwise.\n"
     ]
    }
   ],
   "source": [
    "#loading the list of dictionaries into a pandas dataframe\n",
    "loan_schemaDF = pd.DataFrame.from_dict(loan_schema)\n",
    "#setting the index to the column name so .loc can be \n",
    "#used to find the description of the column name.\n",
    "loan_schemaDF.set_index('column',inplace=True)\n",
    "#testing out the finished product\n",
    "print('credit_policy:',loan_schemaDF.loc['credit_policy','description'])"
   ]
  },
  {
   "cell_type": "code",
   "execution_count": 81,
   "id": "35ee9905",
   "metadata": {},
   "outputs": [],
   "source": [
    "#creating a Data Frame grouping by fully paid or not\n",
    "payment_status_grp = loanDF.groupby('not_fully_paid')"
   ]
  },
  {
   "cell_type": "code",
   "execution_count": 82,
   "id": "a2ba8683",
   "metadata": {},
   "outputs": [
    {
     "name": "stdout",
     "output_type": "stream",
     "text": [
      "installment: The monthly installments owed by the borrower if the loan is funded.\n",
      "not_fully_paid: If the loan was fully paid back 0 is yes, 1 is no\n"
     ]
    },
    {
     "data": {
      "text/html": [
       "<div>\n",
       "<style scoped>\n",
       "    .dataframe tbody tr th:only-of-type {\n",
       "        vertical-align: middle;\n",
       "    }\n",
       "\n",
       "    .dataframe tbody tr th {\n",
       "        vertical-align: top;\n",
       "    }\n",
       "\n",
       "    .dataframe thead th {\n",
       "        text-align: right;\n",
       "    }\n",
       "</style>\n",
       "<table border=\"1\" class=\"dataframe\">\n",
       "  <thead>\n",
       "    <tr style=\"text-align: right;\">\n",
       "      <th></th>\n",
       "      <th>mean</th>\n",
       "      <th>median</th>\n",
       "    </tr>\n",
       "    <tr>\n",
       "      <th>not_fully_paid</th>\n",
       "      <th></th>\n",
       "      <th></th>\n",
       "    </tr>\n",
       "  </thead>\n",
       "  <tbody>\n",
       "    <tr>\n",
       "      <th>0</th>\n",
       "      <td>314.57</td>\n",
       "      <td>266.52</td>\n",
       "    </tr>\n",
       "    <tr>\n",
       "      <th>1</th>\n",
       "      <td>342.79</td>\n",
       "      <td>287.31</td>\n",
       "    </tr>\n",
       "  </tbody>\n",
       "</table>\n",
       "</div>"
      ],
      "text/plain": [
       "                  mean  median\n",
       "not_fully_paid                \n",
       "0               314.57  266.52\n",
       "1               342.79  287.31"
      ]
     },
     "execution_count": 82,
     "metadata": {},
     "output_type": "execute_result"
    }
   ],
   "source": [
    "# Printing the descriptions of the columns we are aggregating to data exploration purposes.\n",
    "print('installment:',loan_schemaDF.loc['installment','description'])\n",
    "print('not_fully_paid:',loan_schemaDF.loc['not_fully_paid','description'])\n",
    "#looking at the average installment payment and the median installment payment\n",
    "round(payment_status_grp['installment'].agg(['mean','median']),2)"
   ]
  },
  {
   "cell_type": "code",
   "execution_count": 83,
   "id": "6f49b948",
   "metadata": {},
   "outputs": [
    {
     "name": "stdout",
     "output_type": "stream",
     "text": [
      "purpose: The purpose of the loan (takes values \"creditcard\", \"debtconsolidation\", \"educational\", \"majorpurchase\", \"smallbusiness\", and \"all_other\").\n",
      "not_fully_paid: If the loan was fully paid back 0 is yes, 1 is no\n",
      "not_fully_paid  purpose           \n",
      "0               debt_consolidation    0.416905\n",
      "                all_other             0.241641\n",
      "                credit_card           0.138720\n",
      "                home_improvement      0.064885\n",
      "                small_business        0.055562\n",
      "                major_purchase        0.048229\n",
      "                educational           0.034058\n",
      "1               debt_consolidation    0.393346\n",
      "                all_other             0.252446\n",
      "                small_business        0.112198\n",
      "                credit_card           0.095238\n",
      "                home_improvement      0.069798\n",
      "                educational           0.045010\n",
      "                major_purchase        0.031963\n",
      "Name: purpose, dtype: float64\n"
     ]
    }
   ],
   "source": [
    "# Printing the descriptions of the columns we are aggregating \n",
    "#to data exploration purposes.\n",
    "print('purpose:',loan_schemaDF.loc['purpose','description'])\n",
    "print('not_fully_paid:',loan_schemaDF.loc['not_fully_paid','description'])\n",
    "# looking at the if a specific purpose is more likely or less likely to \n",
    "#pay or not pay.\n",
    "purpose_paid=payment_status_grp['purpose'].value_counts(normalize=True)\n",
    "print(purpose_paid)"
   ]
  },
  {
   "cell_type": "code",
   "execution_count": 84,
   "id": "59ead71a",
   "metadata": {},
   "outputs": [
    {
     "name": "stdout",
     "output_type": "stream",
     "text": [
      "Range of fico is: 612 to 827\n",
      "Range of fico_699 is: 612 to 697\n",
      "Range of fico_799 is: 702 to 797\n",
      "Range of fico_899 is: 802 to 827\n",
      "fico_699: 4221 \n",
      "fico_799: 5212 \n",
      "fico_899: 145\n"
     ]
    }
   ],
   "source": [
    "#Finding and printing the range of Fico\n",
    "print('Range of fico is:',loanDF['fico'].min(),'to',loanDF['fico'].max())\n",
    "\n",
    "#filtering fico into below 699, 700-799, and above 800. \n",
    "fico_699 = loanDF.loc[(pd.to_numeric(loanDF['fico'],errors='coerce')) < 700]\n",
    "# used to test the range of the filtered variable\n",
    "print('Range of fico_699 is:' ,fico_699['fico'].min(),'to',fico_699['fico'].max())\n",
    "\n",
    "fico_799 = loanDF.loc[(pd.to_numeric(loanDF['fico'],errors='coerce')) <800]\n",
    "fico_799 = fico_799.loc[(pd.to_numeric(loanDF['fico'],errors='coerce')) >=700]\n",
    "# used to test the range of the filtered variable\n",
    "print('Range of fico_799 is:',fico_799['fico'].min(),'to',fico_799['fico'].max())\n",
    "\n",
    "fico_899 = loanDF.loc[(pd.to_numeric(loanDF['fico'],errors='coerce')) >=800 ]\n",
    "# used to test the range of the filtered variable\n",
    "print('Range of fico_899 is:',fico_899['fico'].min(),'to',fico_899['fico'].max())\n",
    "\n",
    "print('fico_699:',len(fico_699),'\\nfico_799:',len(fico_799)\n",
    "      ,'\\nfico_899:',len(fico_899))"
   ]
  },
  {
   "cell_type": "code",
   "execution_count": 85,
   "id": "b86afe55",
   "metadata": {},
   "outputs": [
    {
     "name": "stdout",
     "output_type": "stream",
     "text": [
      "fico: The self-reported annual income of the borrower.\n",
      "not_fully_paid: If the loan was fully paid back 0 is yes, 1 is no\n",
      "\n",
      "Percentage of Paid vs Not paid with a fico score of 699 and below:\n",
      "0.79\n",
      "0.21\n",
      "\n",
      "Percentage of Paid vs Not Paid with a fico score of 700-799:\n",
      "0.88\n",
      "0.12\n",
      "\n",
      "Percentage of Paid vs Not Paid with a fico score of 800 and above:\n",
      "0.93\n",
      "0.07\n"
     ]
    }
   ],
   "source": [
    "# Printing the descriptions of the columns we are aggregating to data \n",
    "#exploration purposes.\n",
    "print('fico:',loan_schemaDF.loc['annual_inc','description'])\n",
    "print('not_fully_paid:',loan_schemaDF.loc['not_fully_paid','description'])\n",
    "\n",
    "payment_fico_699_grp = fico_699.groupby('not_fully_paid')\n",
    "print('\\nPercentage of Paid vs Not paid with a fico score of 699 and below:')\n",
    "f699 = []\n",
    "for item in payment_fico_699_grp['fico'].count():\n",
    "    f699.append(item)\n",
    "f699_sum = sum(f699)\n",
    "perc_f699=[]\n",
    "for item in f699:\n",
    "    a699=round(item/f699_sum,2)\n",
    "    print(a699)\n",
    "    perc_f699.append(a699)\n",
    "   \n",
    "\n",
    "\n",
    "payment_fico_799_grp = fico_799.groupby('not_fully_paid')\n",
    "print('\\nPercentage of Paid vs Not Paid with a fico score of 700-799:')\n",
    "f799 = []\n",
    "for item in payment_fico_799_grp['fico'].count():\n",
    "    f799.append(item)\n",
    "f799_sum = sum(f799)\n",
    "perc_f799=[]\n",
    "for item in f799:\n",
    "    a799=round(item/f799_sum,2)\n",
    "    print(a799)\n",
    "    perc_f799.append(a799)\n",
    "    \n",
    "payment_fico_899_grp = fico_899.groupby('not_fully_paid')\n",
    "print('\\nPercentage of Paid vs Not Paid with a fico score of 800 and above:')\n",
    "f899 = []\n",
    "for item in payment_fico_899_grp['fico'].count():\n",
    "    f899.append(item)\n",
    "f899_sum = sum(f899)\n",
    "perc_f899=[]\n",
    "for item in f899:\n",
    "    a899=round(item/f899_sum,2)\n",
    "    print(a899)\n",
    "    perc_f899.append(a899)"
   ]
  },
  {
   "cell_type": "code",
   "execution_count": 86,
   "id": "30e09334",
   "metadata": {},
   "outputs": [
    {
     "name": "stdout",
     "output_type": "stream",
     "text": [
      "[0.79, 0.21] [0.88, 0.12] [0.93, 0.07]\n"
     ]
    }
   ],
   "source": [
    "print(perc_f699,perc_f799,perc_f899)"
   ]
  },
  {
   "cell_type": "code",
   "execution_count": 113,
   "id": "1134a881",
   "metadata": {
    "scrolled": true
   },
   "outputs": [
    {
     "data": {
      "image/png": "[encoded data removed]",
      "text/plain": [
       "<Figure size 1800x432 with 1 Axes>"
      ]
     },
     "metadata": {
      "needs_background": "light"
     },
     "output_type": "display_data"
    }
   ],
   "source": [
    "import matplotlib.pyplot as plt\n",
    "\n",
    "names = ['699\\n and below \\npaid','699\\n and below \\ndefaulted',\n",
    "         '700-799\\npaid','700-799\\ndefaulted',\n",
    "         '800\\n and above\\npaid','800\\n and above\\ndefaulted']\n",
    "values = [perc_f699[0],perc_f699[1],perc_f799[0],perc_f799[1],perc_f899[0],perc_f899[1]]\n",
    "colors = ['green','red','green','red','green','red']\n",
    "plt.figure(figsize=(25, 6))\n",
    "\n",
    "plt.subplot(131)\n",
    "plt.bar(names, values, color= colors)\n",
    "plt.ylabel('Percent')\n",
    "plt.xlabel('Fico Credit Score')\n",
    "plt.title('Fico Credit Score and Loans')\n",
    "\n",
    "plt.show()"
   ]
  },
  {
   "cell_type": "code",
   "execution_count": 88,
   "id": "99f87525",
   "metadata": {},
   "outputs": [
    {
     "name": "stdout",
     "output_type": "stream",
     "text": [
      "dti: The debt-to-income ratio of the borrower (amount of debt divided by annual income).\n",
      "not_fully_paid: If the loan was fully paid back 0 is yes, 1 is no\n",
      "\n",
      "Percentage of not paid loans\n",
      "debt to income  0-10: 0.15 \n",
      "debt to income 10-20: 0.16 \n",
      "debt to income 20-30: 0.18\n"
     ]
    }
   ],
   "source": [
    "# Printing the descriptions of the columns we are aggregating to data exploration purposes.\n",
    "print('dti:',loan_schemaDF.loc['dti','description'])\n",
    "print('not_fully_paid:',loan_schemaDF.loc['not_fully_paid','description'])\n",
    "\n",
    "dtibins=[0,10,20,30]\n",
    "grp_by_debt = loanDF.groupby([pd.cut(loanDF.dti, dtibins)])\n",
    "debt_nfp =grp_by_debt['not_fully_paid'].value_counts()\n",
    "\n",
    "dti_10 = round(debt_nfp[1]/(debt_nfp[0]+debt_nfp[1]),2)\n",
    "dti_20 = round(debt_nfp[3]/(debt_nfp[2]+debt_nfp[3]),2)\n",
    "dti_30 = round(debt_nfp[5]/(debt_nfp[4]+debt_nfp[5]),2)\n",
    "print('\\nPercentage of not paid loans')\n",
    "print('debt to income  0-10:',dti_10 ,'\\ndebt to income 10-20:',dti_20,'\\ndebt to income 20-30:',dti_30)"
   ]
  },
  {
   "cell_type": "code",
   "execution_count": 89,
   "id": "cb8de99c",
   "metadata": {},
   "outputs": [
    {
     "data": {
      "text/plain": [
       "0.15"
      ]
     },
     "execution_count": 89,
     "metadata": {},
     "output_type": "execute_result"
    }
   ],
   "source": [
    "dti_10"
   ]
  },
  {
   "cell_type": "code",
   "execution_count": 90,
   "id": "2ee03327",
   "metadata": {},
   "outputs": [
    {
     "data": {
      "image/png": "[encoded data removed]",
      "text/plain": [
       "<Figure size 648x216 with 1 Axes>"
      ]
     },
     "metadata": {
      "needs_background": "light"
     },
     "output_type": "display_data"
    }
   ],
   "source": [
    "import matplotlib.pyplot as plt\n",
    "\n",
    "names = ['0-10',\n",
    "         '10-20',\n",
    "         '20-30']\n",
    "values = [dti_10,dti_20,dti_30]\n",
    "\n",
    "plt.figure(figsize=(9,3))\n",
    "\n",
    "plt.subplot(131)\n",
    "plt.bar(names, values)\n",
    "plt.ylabel('Percent of Defaulted loans')\n",
    "plt.xlabel('Debt-to-income')\n",
    "plt.title('Debt-to-income rates and loan defualting(all loan types)')\n",
    "plt.show()"
   ]
  },
  {
   "cell_type": "code",
   "execution_count": 91,
   "id": "242b3636",
   "metadata": {},
   "outputs": [
    {
     "name": "stdout",
     "output_type": "stream",
     "text": [
      "Annual_inc: The self-reported annual income of the borrower.\n",
      "not_fully_paid: If the loan was fully paid back 0 is yes, 1 is no\n",
      "\n",
      "Annual income by bins\n",
      " annual_inc         not_fully_paid\n",
      "(0, 50000]         0                 0.825581\n",
      "                   1                 0.174419\n",
      "(50000, 100000]    0                 0.852206\n",
      "                   1                 0.147794\n",
      "(100000, 200000]   0                 0.857511\n",
      "                   1                 0.142489\n",
      "(200000, 2100000]  0                 0.785366\n",
      "                   1                 0.214634\n",
      "Name: not_fully_paid, dtype: float64\n"
     ]
    }
   ],
   "source": [
    "# Printing the descriptions of the columns we are aggregating to data exploration purposes.\n",
    "print('Annual_inc:',loan_schemaDF.loc['annual_inc','description'])\n",
    "print('not_fully_paid:',loan_schemaDF.loc['not_fully_paid','description'])\n",
    "# looking at the if a specific purpose is more likely or less likely to pay or not pay.\n",
    "\n",
    "incbins=[0,50000,100000,200000,2100000]\n",
    "grp_by_inc = loanDF.groupby([pd.cut(loanDF.annual_inc, incbins)])\n",
    "inc_nfp =grp_by_inc['not_fully_paid'].value_counts(normalize=True)\n",
    "\n",
    "print('\\nAnnual income by bins\\n',inc_nfp)"
   ]
  },
  {
   "cell_type": "code",
   "execution_count": 92,
   "id": "10056dfc",
   "metadata": {},
   "outputs": [
    {
     "data": {
      "text/plain": [
       "0.8255813953488372"
      ]
     },
     "execution_count": 92,
     "metadata": {},
     "output_type": "execute_result"
    }
   ],
   "source": [
    "inc_nfp[0]"
   ]
  },
  {
   "cell_type": "code",
   "execution_count": 93,
   "id": "6843627e",
   "metadata": {},
   "outputs": [
    {
     "data": {
      "image/png": "[encoded data removed]",
      "text/plain": [
       "<Figure size 1800x288 with 1 Axes>"
      ]
     },
     "metadata": {
      "needs_background": "light"
     },
     "output_type": "display_data"
    }
   ],
   "source": [
    "names = ['0-50,000', '50,000-100,000', '100,000-200,000','200,000+']\n",
    "values = [inc_nfp[1],inc_nfp[3],inc_nfp[5],inc_nfp[7]]\n",
    "plt.figure(figsize=(25,4))\n",
    "\n",
    "plt.subplot(131)\n",
    "plt.plot(names, values)\n",
    "plt.ylabel('Percent of Defaulted loans')\n",
    "plt.xlabel('Annual Income in dollars')\n",
    "plt.title('Income vs Defaulting loans')\n",
    "plt.show()"
   ]
  },
  {
   "cell_type": "code",
   "execution_count": 94,
   "id": "862d005f",
   "metadata": {},
   "outputs": [
    {
     "data": {
      "text/plain": [
       "purpose             not_fully_paid\n",
       "all_other           0                 0.800000\n",
       "                    1                 0.200000\n",
       "credit_card         0                 0.875000\n",
       "                    1                 0.125000\n",
       "debt_consolidation  0                 0.818182\n",
       "                    1                 0.181818\n",
       "home_improvement    0                 0.757576\n",
       "                    1                 0.242424\n",
       "major_purchase      0                 0.923077\n",
       "                    1                 0.076923\n",
       "small_business      0                 0.560000\n",
       "                    1                 0.440000\n",
       "Name: not_fully_paid, dtype: float64"
      ]
     },
     "execution_count": 94,
     "metadata": {},
     "output_type": "execute_result"
    }
   ],
   "source": [
    "#filtered by income greater thatn 200000\n",
    "annual_inc_large = loanDF['annual_inc']>200000\n",
    "#grouped by purpose\n",
    "annual_inc_large_grp = loanDF[annual_inc_large].groupby('purpose')\n",
    "#viewed not fully paid\n",
    "annual_inc_large_grp['not_fully_paid'].value_counts(normalize=True)"
   ]
  },
  {
   "cell_type": "code",
   "execution_count": 95,
   "id": "4dc9e2f0",
   "metadata": {},
   "outputs": [
    {
     "name": "stdout",
     "output_type": "stream",
     "text": [
      "Annual_inc: The self-reported annual income of the borrower.\n",
      "purpose: If the loan was fully paid back 0 is yes, 1 is no\n",
      "not_fully_paid: If the loan was fully paid back 0 is yes, 1 is no\n",
      "\n",
      "Annual income by bins\n",
      " annual_inc         not_fully_paid\n",
      "(0, 50000]         0                 0.739362\n",
      "                   1                 0.260638\n",
      "(50000, 100000]    0                 0.722222\n",
      "                   1                 0.277778\n",
      "(100000, 200000]   0                 0.728814\n",
      "                   1                 0.271186\n",
      "(200000, 2100000]  0                 0.560000\n",
      "                   1                 0.440000\n",
      "Name: not_fully_paid, dtype: float64\n"
     ]
    }
   ],
   "source": [
    "# Printing the descriptions of the columns we are aggregating to data exploration purposes.\n",
    "print('Annual_inc:',loan_schemaDF.loc['annual_inc','description'])\n",
    "print('purpose:',loan_schemaDF.loc['not_fully_paid','description'])\n",
    "print('not_fully_paid:',loan_schemaDF.loc['not_fully_paid','description'])\n",
    "# looking at the if a specific purpose is more likely or less likely to pay or not pay.\n",
    "\n",
    "#Selecting only small business loans\n",
    "sb= loanDF.loc[loanDF['purpose'] == 'small_business']\n",
    "\n",
    "# selecting the income ranges\n",
    "incbins=[0,50000,100000,200000,2100000]\n",
    "# Grouping the small buisiness loans by income\n",
    "sb_grp_by_inc = sb.groupby([pd.cut(sb.annual_inc, incbins)])\n",
    "# Creating a % of paid vs not paid \n",
    "sb_inc_nfp =sb_grp_by_inc['not_fully_paid'].value_counts(normalize=True)\n",
    "\n",
    "print('\\nAnnual income by bins\\n',sb_inc_nfp)"
   ]
  },
  {
   "cell_type": "code",
   "execution_count": 96,
   "id": "8a60b5ae",
   "metadata": {},
   "outputs": [
    {
     "data": {
      "image/png": "[encoded data removed]",
      "text/plain": [
       "<Figure size 1800x288 with 1 Axes>"
      ]
     },
     "metadata": {
      "needs_background": "light"
     },
     "output_type": "display_data"
    }
   ],
   "source": [
    "names = ['0-50,000', '50,000-100,000', '100,000-200,000','200,000+']\n",
    "values = [sb_inc_nfp[1],sb_inc_nfp[3],sb_inc_nfp[5],sb_inc_nfp[7]]\n",
    "plt.figure(figsize=(25,4))\n",
    "\n",
    "plt.subplot(131)\n",
    "plt.plot(names, values)\n",
    "plt.ylabel('Percent of Defaulted small business loans')\n",
    "plt.xlabel('Annual Income in dollars')\n",
    "plt.title('Income vs Defaulting on small business loans')\n",
    "plt.show()"
   ]
  },
  {
   "cell_type": "code",
   "execution_count": 97,
   "id": "5914d144",
   "metadata": {},
   "outputs": [
    {
     "name": "stdout",
     "output_type": "stream",
     "text": [
      "dti: The debt-to-income ratio of the borrower (amount of debt divided by annual income).\n",
      "not_fully_paid: If the loan was fully paid back 0 is yes, 1 is no\n",
      "purpose: If the loan was fully paid back 0 is yes, 1 is no\n",
      "\n",
      "Percentage of not paid small business loans\n",
      "debt to income  0-10: 0.23 \n",
      "debt to income 10-20: 0.3 \n",
      "debt to income 20-30: 0.36\n"
     ]
    }
   ],
   "source": [
    "# Printing the descriptions of the columns we are aggregating to data exploration purposes.\n",
    "print('dti:',loan_schemaDF.loc['dti','description'])\n",
    "print('not_fully_paid:',loan_schemaDF.loc['not_fully_paid','description'])\n",
    "print('purpose:',loan_schemaDF.loc['not_fully_paid','description'])\n",
    "\n",
    "dtibins=[0,10,20,30]\n",
    "sb_grp_by_debt = sb.groupby([pd.cut(sb.dti, dtibins)])\n",
    "sb_debt_nfp =sb_grp_by_debt['not_fully_paid'].value_counts()\n",
    "\n",
    "sb_dti_10 = round(sb_debt_nfp[1]/(sb_debt_nfp[0]+sb_debt_nfp[1]),2)\n",
    "sb_dti_20 = round(sb_debt_nfp[3]/(sb_debt_nfp[2]+sb_debt_nfp[3]),2)\n",
    "sb_dti_30 = round(sb_debt_nfp[5]/(sb_debt_nfp[4]+sb_debt_nfp[5]),2)\n",
    "print('\\nPercentage of not paid small business loans')\n",
    "print('debt to income  0-10:',sb_dti_10 ,'\\ndebt to income 10-20:',sb_dti_20,'\\ndebt to income 20-30:',sb_dti_30)"
   ]
  },
  {
   "cell_type": "code",
   "execution_count": 98,
   "id": "0483d2d9",
   "metadata": {},
   "outputs": [
    {
     "data": {
      "image/png": "[encoded data removed]",
      "text/plain": [
       "<Figure size 648x216 with 1 Axes>"
      ]
     },
     "metadata": {
      "needs_background": "light"
     },
     "output_type": "display_data"
    }
   ],
   "source": [
    "import matplotlib.pyplot as plt\n",
    "\n",
    "names = ['0-10',\n",
    "         '10-20',\n",
    "         '20-30']\n",
    "values = [sb_dti_10,sb_dti_20,sb_dti_30]\n",
    "\n",
    "plt.figure(figsize=(9,3))\n",
    "\n",
    "plt.subplot(131)\n",
    "plt.bar(names, values)\n",
    "plt.ylabel('Percent of Defaulted loans')\n",
    "plt.xlabel('Debt-to-income')\n",
    "plt.title('Debt-to-income rates and loan defualting(Small business loans)')\n",
    "plt.show()"
   ]
  },
  {
   "cell_type": "code",
   "execution_count": 99,
   "id": "fd264e1b",
   "metadata": {},
   "outputs": [
    {
     "name": "stdout",
     "output_type": "stream",
     "text": [
      "Range of fico is: 612 to 827\n",
      "Range of fico_699 is: 642 to 697\n",
      "Range of fico_799 is: 702 to 797\n",
      "Range of fico_899 is: 802 to 822\n",
      "fico_699: 206 \n",
      "fico_799: 400 \n",
      "fico_899: 13\n"
     ]
    }
   ],
   "source": [
    "#Finding and printing the range of Fico\n",
    "print('Range of fico is:',loanDF['fico'].min(),'to',loanDF['fico'].max())\n",
    "\n",
    "#filtering fico into below 699, 700-799, and above 800. \n",
    "sb_fico_699 = sb.loc[(pd.to_numeric(sb['fico'],errors='coerce')) < 700]\n",
    "# used to test the range of the filtered variable\n",
    "print('Range of fico_699 is:' ,sb_fico_699['fico'].min(),'to',sb_fico_699['fico'].max())\n",
    "\n",
    "sb_fico_799 = sb.loc[(pd.to_numeric(sb['fico'],errors='coerce')) <800]\n",
    "sb_fico_799 = sb_fico_799.loc[(pd.to_numeric(sb['fico'],errors='coerce')) >=700]\n",
    "# used to test the range of the filtered variable\n",
    "print('Range of fico_799 is:',sb_fico_799['fico'].min(),'to',sb_fico_799['fico'].max())\n",
    "\n",
    "sb_fico_899 = sb.loc[(pd.to_numeric(sb['fico'],errors='coerce')) >=800 ]\n",
    "# used to test the range of the filtered variable\n",
    "print('Range of fico_899 is:',sb_fico_899['fico'].min(),'to',sb_fico_899['fico'].max())\n",
    "\n",
    "print('fico_699:',len(sb_fico_699),'\\nfico_799:',len(sb_fico_799)\n",
    "      ,'\\nfico_899:',len(sb_fico_899))"
   ]
  },
  {
   "cell_type": "code",
   "execution_count": 100,
   "id": "b6f6fd39",
   "metadata": {},
   "outputs": [
    {
     "name": "stdout",
     "output_type": "stream",
     "text": [
      "fico: The self-reported annual income of the borrower.\n",
      "not_fully_paid: If the loan was fully paid back 0 is yes, 1 is no\n",
      "\n",
      "Percentage of Paid vs Not paid with a fico score of 699 and below:\n",
      "0.62\n",
      "0.38\n",
      "\n",
      "Percentage of Paid vs Not Paid with a fico score of 700-799:\n",
      "0.77\n",
      "0.23\n",
      "\n",
      "Percentage of Paid vs Not Paid with a fico score of 800 and above:\n",
      "0.92\n",
      "0.08\n"
     ]
    }
   ],
   "source": [
    "# Printing the descriptions of the columns we are aggregating to data \n",
    "#exploration purposes.\n",
    "print('fico:',loan_schemaDF.loc['annual_inc','description'])\n",
    "print('not_fully_paid:',loan_schemaDF.loc['not_fully_paid','description'])\n",
    "\n",
    "sb_payment_fico_699_grp = sb_fico_699.groupby('not_fully_paid')\n",
    "print('\\nPercentage of Paid vs Not paid with a fico score of 699 and below:')\n",
    "sb_f699 = []\n",
    "for item in sb_payment_fico_699_grp['fico'].count():\n",
    "    sb_f699.append(item)\n",
    "sb_f699_sum = sum(sb_f699)\n",
    "sb_perc_f699=[]\n",
    "for item in sb_f699:\n",
    "    b699=round(item/sb_f699_sum,2)\n",
    "    print(b699)\n",
    "    sb_perc_f699.append(b699)\n",
    "   \n",
    "sb_payment_fico_799_grp = sb_fico_799.groupby('not_fully_paid')\n",
    "print('\\nPercentage of Paid vs Not Paid with a fico score of 700-799:')\n",
    "sb_f799 = []\n",
    "for item in sb_payment_fico_799_grp['fico'].count():\n",
    "    sb_f799.append(item)\n",
    "sb_f799_sum = sum(sb_f799)\n",
    "sb_perc_f799=[]\n",
    "for item in sb_f799:\n",
    "    b799=round(item/sb_f799_sum,2)\n",
    "    print(b799)\n",
    "    sb_perc_f799.append(b799)\n",
    "    \n",
    "sb_payment_fico_899_grp = sb_fico_899.groupby('not_fully_paid')\n",
    "print('\\nPercentage of Paid vs Not Paid with a fico score of 800 and above:')\n",
    "sb_f899 = []\n",
    "for item in sb_payment_fico_899_grp['fico'].count():\n",
    "    sb_f899.append(item)\n",
    "sb_f899_sum = sum(sb_f899)\n",
    "sb_perc_f899=[]\n",
    "for item in sb_f899:\n",
    "    b899=round(item/sb_f899_sum,2)\n",
    "    print(b899)\n",
    "    sb_perc_f899.append(b899)"
   ]
  },
  {
   "cell_type": "code",
   "execution_count": 114,
   "id": "fa383dda",
   "metadata": {},
   "outputs": [
    {
     "data": {
      "image/png": "[encoded data removed]",
      "text/plain": [
       "<Figure size 1800x432 with 1 Axes>"
      ]
     },
     "metadata": {
      "needs_background": "light"
     },
     "output_type": "display_data"
    }
   ],
   "source": [
    "import matplotlib.pyplot as plt\n",
    "\n",
    "names = ['699\\n and below \\npaid','699\\n and below \\ndefaulted',\n",
    "         '700-799\\npaid','700-799\\ndefaulted',\n",
    "         '800\\n and above\\npaid','800\\n and above\\ndefaulted']\n",
    "values = [sb_perc_f699[0],sb_perc_f699[1],sb_perc_f799[0],sb_perc_f799[1],sb_perc_f899[0],\n",
    "          sb_perc_f899[1]]\n",
    "colors = ['green','red','green','red','green','red']\n",
    "plt.figure(figsize=(25, 6))\n",
    "\n",
    "plt.subplot(131)\n",
    "plt.bar(names, values, color= colors)\n",
    "plt.ylabel('Percent')\n",
    "plt.xlabel('Fico Credit Score')\n",
    "plt.title('Fico Credit Score and small business loans')\n",
    "\n",
    "plt.show()"
   ]
  },
  {
   "cell_type": "code",
   "execution_count": 102,
   "id": "26741738",
   "metadata": {},
   "outputs": [],
   "source": [
    "# replacing the strings with numeric values for machine learning\n",
    "loanDF['purpose'] = loanDF['purpose'].replace(['debt_consolidation', 'credit_card', 'all_other',\n",
    "       'home_improvement', 'small_business', 'major_purchase',\n",
    "       'educational'],[1,2,3,4,5,6,7])\n",
    "\n",
    "# removing the created annual_inc so machine learing only uses the log.\n",
    "loanDF = loanDF.drop(\"annual_inc\", axis='columns')"
   ]
  },
  {
   "cell_type": "code",
   "execution_count": 103,
   "id": "639f9002",
   "metadata": {},
   "outputs": [
    {
     "name": "stdout",
     "output_type": "stream",
     "text": [
      "not_fully_paid: If the loan was fully paid back 0 is yes, 1 is no\n"
     ]
    },
    {
     "data": {
      "text/plain": [
       "0    0.84\n",
       "1    0.16\n",
       "Name: not_fully_paid, dtype: float64"
      ]
     },
     "execution_count": 103,
     "metadata": {},
     "output_type": "execute_result"
    }
   ],
   "source": [
    "# Printing the descriptions\n",
    "print('not_fully_paid:',loan_schemaDF.loc['not_fully_paid','description'])\n",
    "#showing % of loans paid vs not paid\n",
    "round(loanDF['not_fully_paid'].value_counts(normalize=True),2)"
   ]
  },
  {
   "cell_type": "code",
   "execution_count": 104,
   "id": "84c75089",
   "metadata": {},
   "outputs": [],
   "source": [
    "# Creating a function that will print out Accuracy, Precision and Recall from a confusion Matrix\n",
    "def score(cm):\n",
    "    tp = cm[0,0]\n",
    "    fp = cm[0,1]\n",
    "    fn = cm[1,0]\n",
    "    tn = cm[1,1]\n",
    "    total = tp+fp+fn+tn\n",
    "    p = round(tp/(tp+fp),2)\n",
    "    r = round(tp/(tp+fn),2)\n",
    "    a = round((tp+tn)/total,2)\n",
    "    print('Accuracy:',a,'\\nPrecision:',p,'\\nRecall:',r)\n",
    "#Precision - What proportion of positive identifications was actually correct?\n",
    "#Recall - What proportion of actual positives was identified correctly?"
   ]
  },
  {
   "cell_type": "code",
   "execution_count": 105,
   "id": "1babe450",
   "metadata": {},
   "outputs": [],
   "source": [
    "from sklearn.model_selection import train_test_split\n",
    "# creating a dataframe (X) without the column we are attempting to predict.\n",
    "X = loanDF.drop(columns=['not_fully_paid'])\n",
    "# creating a dataframe (y) that is what we are attempting to predict\n",
    "y = loanDF['not_fully_paid']\n",
    "# spltting the dataframes into 80% train 20% test for evaluation later.\n",
    "X_train,X_test,y_train,y_test = train_test_split(X,y,test_size=0.2)"
   ]
  },
  {
   "cell_type": "code",
   "execution_count": 119,
   "id": "fd37fe80",
   "metadata": {},
   "outputs": [
    {
     "name": "stdout",
     "output_type": "stream",
     "text": [
      "Accuracy: 0.74 \n",
      "Precision: 0.83 \n",
      "Recall: 0.86\n"
     ]
    }
   ],
   "source": [
    "## Decision Tree\n",
    "import pandas as pd\n",
    "from sklearn.tree import DecisionTreeClassifier\n",
    "from sklearn.model_selection import train_test_split\n",
    "from sklearn.metrics import accuracy_score, confusion_matrix\n",
    "\n",
    "#selecting the machine learning algorighm into a variable\n",
    "dt_model = DecisionTreeClassifier()\n",
    "# Training the model on the 80% selected for training\n",
    "dt_model.fit(X_train,y_train)\n",
    "# using the model to predict the remaining 20%.\n",
    "dt_predictions = dt_model.predict(X_test)\n",
    "\n",
    "#Creating a confusion matrix of the models predictions and the actual results.\n",
    "dt_cMatrix = confusion_matrix(y_test, dt_predictions)\n",
    "\n",
    "#finding the Accuracy, Precision and Recall of the model.\n",
    "score(dt_cMatrix)\n"
   ]
  },
  {
   "cell_type": "code",
   "execution_count": 107,
   "id": "a10128d7",
   "metadata": {},
   "outputs": [
    {
     "name": "stdout",
     "output_type": "stream",
     "text": [
      "Accuracy: 0.85 \n",
      "Precision: 0.99 \n",
      "Recall: 0.85\n"
     ]
    }
   ],
   "source": [
    "## Random Forest\n",
    "import pandas as pd\n",
    "from sklearn.ensemble import RandomForestClassifier\n",
    "from sklearn.model_selection import train_test_split\n",
    "from sklearn.metrics import confusion_matrix\n",
    "\n",
    "#selecting the machine learning algorighm into a variable\n",
    "# also selecting for 1000 decision trees to be used.\n",
    "rf_model = RandomForestClassifier(n_estimators=1000)\n",
    "# Training the model on the 80% selected for training\n",
    "rf_model.fit(X_train,y_train)\n",
    "# using the model to predict the remaining 20%.\n",
    "rf_predictions = rf_model.predict(X_test)\n",
    "\n",
    "#Creating a confusion matrix of the models predictions and the actual results.\n",
    "rf_cMatrix = confusion_matrix(y_test, rf_predictions)\n",
    "\n",
    "#finding the Accuracy, Precision and Recall of the model.\n",
    "score(rf_cMatrix)\n"
   ]
  },
  {
   "cell_type": "code",
   "execution_count": 108,
   "id": "036260be",
   "metadata": {},
   "outputs": [
    {
     "name": "stdout",
     "output_type": "stream",
     "text": [
      "Fitting 5 folds for each of 100 candidates, totalling 500 fits\n",
      "Accuracy: 0.84 \n",
      "Precision: 0.99 \n",
      "Recall: 0.85\n"
     ]
    }
   ],
   "source": [
    "#Naive Bayes\n",
    "import pandas as pd\n",
    "from sklearn.naive_bayes import GaussianNB\n",
    "from sklearn.model_selection import train_test_split,GridSearchCV, cross_validate \n",
    "from sklearn.metrics import accuracy_score\n",
    "import numpy as np\n",
    "\n",
    "#selecting the machine learning algorighm into a variable\n",
    "nb_model = GaussianNB()\n",
    "\n",
    "#creating a range for the variance smoothing to run through.\n",
    "params_NB = {'var_smoothing': np.logspace(0,-9, num=100)}\n",
    "#Updating the model to incorporate the variance smoothing check.\n",
    "nb_model_gs = GridSearchCV(estimator=nb_model, \n",
    "                 param_grid=params_NB, \n",
    "                 verbose=1, \n",
    "                 scoring='accuracy')\n",
    "\n",
    "# Training the model on the 80% selected for training\n",
    "nb_model_gs.fit(X_train,y_train)\n",
    "#selecting the model of variance smoothing by highest variance\n",
    "nb_model_gs.best_params_\n",
    "# using the model to predict the remaining 20%.\n",
    "nb_predictions = nb_model_gs.predict(X_test)\n",
    "\n",
    "#Creating a confusion matrix of the models predictions and the actual results.\n",
    "nb_cMatrix = confusion_matrix(y_test, nb_predictions)\n",
    "\n",
    "#finding the Accuracy, Precision and Recall of the model.\n",
    "score(nb_cMatrix)"
   ]
  },
  {
   "cell_type": "code",
   "execution_count": 120,
   "id": "4cdbe5f4",
   "metadata": {},
   "outputs": [
    {
     "name": "stdout",
     "output_type": "stream",
     "text": [
      "Accuracy: 0.85 \n",
      "Precision: 1.0 \n",
      "Recall: 0.85\n"
     ]
    }
   ],
   "source": [
    "# SVM\n",
    "import pandas as pd\n",
    "from sklearn.svm import SVC\n",
    "from sklearn.model_selection import train_test_split\n",
    "from sklearn.metrics import confusion_matrix, accuracy_score\n",
    "\n",
    "#selecting the machine learning algorighm into a variable\n",
    "svm_model = SVC()\n",
    "# Training the model on the 80% selected for training\n",
    "svm_model.fit(X_train,y_train)\n",
    "# using the model to predict the remaining 20%.\n",
    "svm_predictions = svm_model.predict(X_test)\n",
    "\n",
    "#Creating a confusion matrix of the models predictions and the actual results.\n",
    "svm_cMatrix = confusion_matrix(y_test, svm_predictions)\n",
    "\n",
    "#finding the Accuracy, Precision and Recall of the model.\n",
    "score(svm_cMatrix)"
   ]
  },
  {
   "cell_type": "code",
   "execution_count": 110,
   "id": "da0da551",
   "metadata": {},
   "outputs": [
    {
     "data": {
      "text/html": [
       "<div>\n",
       "<style scoped>\n",
       "    .dataframe tbody tr th:only-of-type {\n",
       "        vertical-align: middle;\n",
       "    }\n",
       "\n",
       "    .dataframe tbody tr th {\n",
       "        vertical-align: top;\n",
       "    }\n",
       "\n",
       "    .dataframe thead th {\n",
       "        text-align: right;\n",
       "    }\n",
       "</style>\n",
       "<table border=\"1\" class=\"dataframe\">\n",
       "  <thead>\n",
       "    <tr style=\"text-align: right;\">\n",
       "      <th></th>\n",
       "      <th>Accuracy</th>\n",
       "      <th>Precision</th>\n",
       "      <th>Recall</th>\n",
       "    </tr>\n",
       "    <tr>\n",
       "      <th>type</th>\n",
       "      <th></th>\n",
       "      <th></th>\n",
       "      <th></th>\n",
       "    </tr>\n",
       "  </thead>\n",
       "  <tbody>\n",
       "    <tr>\n",
       "      <th>decision_tree</th>\n",
       "      <td>0.73</td>\n",
       "      <td>0.82</td>\n",
       "      <td>0.85</td>\n",
       "    </tr>\n",
       "    <tr>\n",
       "      <th>Random_forest</th>\n",
       "      <td>0.84</td>\n",
       "      <td>1.00</td>\n",
       "      <td>0.84</td>\n",
       "    </tr>\n",
       "    <tr>\n",
       "      <th>Naive_Bayes</th>\n",
       "      <td>0.84</td>\n",
       "      <td>1.00</td>\n",
       "      <td>0.84</td>\n",
       "    </tr>\n",
       "    <tr>\n",
       "      <th>Support_Vector_Machine</th>\n",
       "      <td>0.84</td>\n",
       "      <td>1.00</td>\n",
       "      <td>0.84</td>\n",
       "    </tr>\n",
       "  </tbody>\n",
       "</table>\n",
       "</div>"
      ],
      "text/plain": [
       "                        Accuracy  Precision  Recall\n",
       "type                                               \n",
       "decision_tree               0.73       0.82    0.85\n",
       "Random_forest               0.84       1.00    0.84\n",
       "Naive_Bayes                 0.84       1.00    0.84\n",
       "Support_Vector_Machine      0.84       1.00    0.84"
      ]
     },
     "execution_count": 110,
     "metadata": {},
     "output_type": "execute_result"
    }
   ],
   "source": [
    "#Creating an empty list to add dictionaries into\n",
    "mla=[]\n",
    "# creating dictionaries of the results with the type of machine learning used \n",
    "#adding the dictionaries into the empty list\n",
    "mla.append({'type':'decision_tree','Accuracy': 0.73,'Precision': 0.82,'Recall': 0.85})\n",
    "mla.append({'type':'Random_forest','Accuracy': 0.84,'Precision': 1.0,'Recall': 0.84})\n",
    "mla.append({'type':'Naive_Bayes','Accuracy': 0.84,'Precision': 1.0,'Recall': 0.84})\n",
    "mla.append({'type':'Support_Vector_Machine','Accuracy': 0.84,'Precision': 1.0 ,'Recall': 0.84})\n",
    "\n",
    "#creating a dataframe using the list of dictionaries\n",
    "mla_DF = pd.DataFrame(mla)\n",
    "\n",
    "#setting the index to machine learning type name.\n",
    "mla_DF.set_index('type',inplace=True)\n",
    "# displaying the dataframe\n",
    "mla_DF"
   ]
  },
  {
   "cell_type": "code",
   "execution_count": 111,
   "id": "f9de201c",
   "metadata": {
    "scrolled": true
   },
   "outputs": [
    {
     "data": {
      "image/png": "[encoded data removed]",
      "text/plain": [
       "<Figure size 4320x720 with 1 Axes>"
      ]
     },
     "metadata": {
      "needs_background": "light"
     },
     "output_type": "display_data"
    }
   ],
   "source": [
    "import matplotlib.pyplot as plt\n",
    "\n",
    "paid=0.84\n",
    "not_paid=0.16\n",
    "\n",
    "names = ['% of loans paid','dt Accuracy','dt Precision', 'dt Recall',\n",
    "         'rf Accuracy','rf Precision', 'rf Recall',\n",
    "         'nb Accuracy','nb Precision', 'nb Recall',\n",
    "         'svm Accuracy','svm Precision', 'svm Recall']  \n",
    "values = [paid,mla_DF['Accuracy'][0],mla_DF['Precision'][0],mla_DF['Recall'][0],\n",
    "         mla_DF['Accuracy'][1],mla_DF['Precision'][1],mla_DF['Recall'][1],\n",
    "         mla_DF['Accuracy'][2],mla_DF['Precision'][2],mla_DF['Recall'][2],\n",
    "         mla_DF['Accuracy'][3],mla_DF['Precision'][3],mla_DF['Recall'][3],]\n",
    "colors2 = ['yellow','red','blue','green',\n",
    "          'red','blue','green',\n",
    "          'red','blue','green',\n",
    "          'red','blue','green']\n",
    "plt.figure(figsize=(60, 10))\n",
    "\n",
    "plt.subplot(131)\n",
    "plt.bar(names, values, color= colors2)\n",
    "plt.ylabel('Percent')\n",
    "plt.xlabel('comparison metrics')\n",
    "plt.title('Machine learning metrics comparison')\n",
    "\n",
    "plt.show()"
   ]
  }
 ],
 "metadata": {
  "kernelspec": {
   "display_name": "Python 3 (ipykernel)",
   "language": "python",
   "name": "python3"
  },
  "language_info": {
   "codemirror_mode": {
    "name": "ipython",
    "version": 3
   },
   "file_extension": ".py",
   "mimetype": "text/x-python",
   "name": "python",
   "nbconvert_exporter": "python",
   "pygments_lexer": "ipython3",
   "version": "3.8.8"
  }
 },
 "nbformat": 4,
 "nbformat_minor": 5
}
